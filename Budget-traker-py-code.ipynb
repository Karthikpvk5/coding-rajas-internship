{
  "cells": [
    {
      "cell_type": "markdown",
      "metadata": {
        "id": "view-in-github",
        "colab_type": "text"
      },
      "source": [
        "<a href=\"https://colab.research.google.com/github/Karthikpvk5/coding-rajas-internship/blob/main/Budget-traker-py-code.ipynb\" target=\"_parent\"><img src=\"https://colab.research.google.com/assets/colab-badge.svg\" alt=\"Open In Colab\"/></a>"
      ]
    },
    {
      "cell_type": "code",
      "execution_count": null,
      "metadata": {
        "colab": {
          "background_save": true,
          "base_uri": "https://localhost:8080/"
        },
        "id": "WC7HWlmIsW4P",
        "outputId": "69967957-f8cf-4b83-ab0a-4250b3269eea"
      },
      "outputs": [
        {
          "name": "stdout",
          "output_type": "stream",
          "text": [
            "\n",
            "Budget Tracker Menu:\n",
            "1. Add Transaction\n",
            "2. View Budget\n",
            "3. Expense Analysis\n",
            "4. Exit\n",
            "Add Transaction\n",
            "Transaction added successfully!\n",
            "\n",
            "Budget Tracker Menu:\n",
            "1. Add Transaction\n",
            "2. View Budget\n",
            "3. Expense Analysis\n",
            "4. Exit\n"
          ]
        }
      ],
      "source": [
        "import json\n",
        "import os\n",
        "transactions = []\n",
        "\n",
        "data_file = \"budget_data.json\"\n",
        "if os.path.exists(data_file):\n",
        "    with open(data_file, \"r\") as file:\n",
        "        transactions = json.load(file)\n",
        "\n",
        "def save_data():\n",
        "    with open(data_file, \"w\") as file:\n",
        "        json.dump(transactions, file)\n",
        "\n",
        "def calculate_budget():\n",
        "    income = sum(item['amount'] for item in transactions if item['type'] == 'income')\n",
        "    expenses = sum(item['amount'] for item in transactions if item['type'] == 'expense')\n",
        "    return income - expenses\n",
        "\n",
        "def add_transaction():\n",
        "    print(\"Add Transaction\")\n",
        "    transaction_type = input(\"Income or Expense? \").lower()\n",
        "    if transaction_type not in ['income', 'expense']:\n",
        "        print(\"Invalid transaction type. Please enter 'Income' or 'Expense'.\")\n",
        "        return\n",
        "\n",
        "    category = input(\"Enter category: \")\n",
        "    description = input(\"Enter description: \")\n",
        "    amount = float(input(\"Enter amount: \"))\n",
        "\n",
        "    transaction = {\n",
        "        'type': transaction_type,\n",
        "        'category': category,\n",
        "        'description': description,\n",
        "        'amount': amount\n",
        "    }\n",
        "\n",
        "    transactions.append(transaction)\n",
        "    save_data()\n",
        "    print(\"Transaction added successfully!\")\n",
        "\n",
        "def expense_analysis():\n",
        "    categories = {}\n",
        "    for transaction in transactions:\n",
        "        if transaction['type'] == 'expense':\n",
        "            category = transaction['category']\n",
        "            amount = transaction['amount']\n",
        "            if category in categories:\n",
        "                categories[category] += amount\n",
        "            else:\n",
        "                categories[category] = amount\n",
        "\n",
        "    print(\"Expense Analysis:\")\n",
        "    for category, total_amount in categories.items():\n",
        "        print(f\"{category}: ${total_amount:.2f}\")\n",
        "\n",
        "def main():\n",
        "    while True:\n",
        "        print(\"\\nBudget Tracker Menu:\")\n",
        "        print(\"1. Add Transaction\")\n",
        "        print(\"2. View Budget\")\n",
        "        print(\"3. Expense Analysis\")\n",
        "        print(\"4. Exit\")\n",
        "        choice = input(\"Enter your choice (1/2/3/4): \")\n",
        "\n",
        "        if choice == '1':\n",
        "            add_transaction()\n",
        "        elif choice == '2':\n",
        "            budget = calculate_budget()\n",
        "            print(f\"Remaining Budget: ${budget:.2f}\")\n",
        "        elif choice == '3':\n",
        "            expense_analysis()\n",
        "        elif choice == '4':\n",
        "            print(\"Exiting Budget Tracker.\")\n",
        "            break\n",
        "        else:\n",
        "            print(\"Invalid choice. Please try again.\")\n",
        "\n",
        "if __name__ == \"__main__\":\n",
        "    main()\n"
      ]
    }
  ],
  "metadata": {
    "colab": {
      "provenance": [],
      "authorship_tag": "ABX9TyOEgH36qGgTGwaDIepzVCC2",
      "include_colab_link": true
    },
    "kernelspec": {
      "display_name": "Python 3",
      "name": "python3"
    },
    "language_info": {
      "name": "python"
    }
  },
  "nbformat": 4,
  "nbformat_minor": 0
}